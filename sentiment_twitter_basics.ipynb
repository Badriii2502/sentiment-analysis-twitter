{
  "nbformat": 4,
  "nbformat_minor": 0,
  "metadata": {
    "colab": {
      "provenance": []
    },
    "kernelspec": {
      "name": "python3",
      "display_name": "Python 3"
    },
    "language_info": {
      "name": "python"
    }
  },
  "cells": [
    {
      "cell_type": "code",
      "execution_count": null,
      "metadata": {
        "colab": {
          "base_uri": "https://localhost:8080/"
        },
        "id": "2Qj65lO92ZMy",
        "outputId": "78d2895e-9ecc-4e08-8be3-a70a9e315e5b"
      },
      "outputs": [
        {
          "output_type": "stream",
          "name": "stderr",
          "text": [
            "[nltk_data] Downloading package twitter_samples to /root/nltk_data...\n",
            "[nltk_data]   Package twitter_samples is already up-to-date!\n",
            "[nltk_data] Downloading package stopwords to /root/nltk_data...\n",
            "[nltk_data]   Package stopwords is already up-to-date!\n"
          ]
        },
        {
          "output_type": "stream",
          "name": "stdout",
          "text": [
            "(10000, 2)\n",
            "Accuracy: 75.25 %\n",
            "              precision    recall  f1-score   support\n",
            "\n",
            "    negative       0.74      0.79      0.76      1000\n",
            "    positive       0.77      0.72      0.74      1000\n",
            "\n",
            "    accuracy                           0.75      2000\n",
            "   macro avg       0.75      0.75      0.75      2000\n",
            "weighted avg       0.75      0.75      0.75      2000\n",
            "\n",
            "positive (confidence 0.58)\n",
            "negative (confidence 0.72)\n"
          ]
        },
        {
          "output_type": "execute_result",
          "data": {
            "text/plain": [
              "['vectorizer.joblib']"
            ]
          },
          "metadata": {},
          "execution_count": 9
        }
      ],
      "source": [
        "# Install (Colab usually has these, but this makes sure)\n",
        "!pip -q install nltk scikit-learn\n",
        "\n",
        "# Imports\n",
        "import re\n",
        "import nltk\n",
        "import pandas as pd\n",
        "from sklearn.model_selection import train_test_split\n",
        "from sklearn.feature_extraction.text import TfidfVectorizer\n",
        "from sklearn.linear_model import LogisticRegression\n",
        "from sklearn.metrics import accuracy_score, classification_report\n",
        "\n",
        "nltk.download('twitter_samples')\n",
        "nltk.download('stopwords')\n",
        "\n",
        "from nltk.corpus import twitter_samples\n",
        "\n",
        "pos = twitter_samples.strings('positive_tweets.json')\n",
        "neg = twitter_samples.strings('negative_tweets.json')\n",
        "\n",
        "import pandas as pd\n",
        "df = pd.DataFrame({\n",
        "    'text': pos + neg,\n",
        "    'label': [1]*len(pos) + [0]*len(neg)  # 1=positive, 0=negative\n",
        "})\n",
        "\n",
        "print(df.shape)\n",
        "df.head()\n",
        "\n",
        "import re\n",
        "\n",
        "def clean_text(s: str) -> str:\n",
        "    s = s.lower()\n",
        "    s = re.sub(r'http\\S+|www\\.\\S+', ' ', s)   # links\n",
        "    s = re.sub(r'@\\w+', ' ', s)               # @mentions\n",
        "    s = re.sub(r'#', ' ', s)                  # #hashtags -> remove '#'\n",
        "    s = re.sub(r'[^a-z\\s]', ' ', s)           # keep letters + spaces\n",
        "    s = re.sub(r'\\s+', ' ', s).strip()        # collapse spaces\n",
        "    return s\n",
        "\n",
        "df['clean'] = df['text'].apply(clean_text)\n",
        "df[['text','clean','label']].head()\n",
        "\n",
        "\n",
        "X_train, X_test, y_train, y_test = train_test_split(\n",
        "    df['clean'], df['label'],\n",
        "    test_size=0.2, random_state=42, stratify=df['label']\n",
        ")\n",
        "len(X_train), len(X_test)\n",
        "\n",
        "vectorizer = TfidfVectorizer(\n",
        "    min_df=2,              # ignore very rare words\n",
        "    stop_words='english',  # remove common stopwords\n",
        "    max_features=10000,    # cap feature size\n",
        "    ngram_range=(1,2)      # unigrams + bigrams often help\n",
        ")\n",
        "\n",
        "Xtr = vectorizer.fit_transform(X_train)\n",
        "Xte = vectorizer.transform(X_test)\n",
        "\n",
        "model = LogisticRegression(max_iter=1000)\n",
        "model.fit(Xtr, y_train)\n",
        "\n",
        "pred = model.predict(Xte)\n",
        "print(\"Accuracy:\", round(accuracy_score(y_test, pred)*100, 2), \"%\")\n",
        "print(classification_report(y_test, pred, target_names=['negative','positive']))\n",
        "\n",
        "\n",
        "def predict_sentiment(text: str):\n",
        "    c = clean_text(text)\n",
        "    v = vectorizer.transform([c])\n",
        "    p = model.predict(v)[0]\n",
        "    proba = model.predict_proba(v)[0][p]\n",
        "    label = 'positive' if p == 1 else 'negative'\n",
        "    return f\"{label} (confidence {proba:.2f})\"\n",
        "\n",
        "print(predict_sentiment(\"I absolutely love this phone!\"))\n",
        "print(predict_sentiment(\"This is the worst day ever...\"))\n",
        "\n",
        "import joblib\n",
        "joblib.dump(model, 'sentiment_model.joblib')\n",
        "joblib.dump(vectorizer, 'vectorizer.joblib')\n",
        "\n",
        "# In Colab, uncomment to download:\n",
        "# from google.colab import files\n",
        "# files.download('sentiment_model.joblib')\n",
        "# files.download('vectorizer.joblib')\n",
        "\n"
      ]
    }
  ]
}